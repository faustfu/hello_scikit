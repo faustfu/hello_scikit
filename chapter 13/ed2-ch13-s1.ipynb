{
 "cells": [
  {
   "cell_type": "code",
   "execution_count": 2,
   "metadata": {},
   "outputs": [
    {
     "data": {
      "image/png": "[encoded data removed]",
      "text/plain": [
       "<Figure size 432x288 with 1 Axes>"
      ]
     },
     "metadata": {
      "needs_background": "light"
     },
     "output_type": "display_data"
    }
   ],
   "source": [
    "import numpy as np \n",
    "from sklearn.cluster import KMeans \n",
    "from scipy.spatial.distance import cdist \n",
    "import matplotlib.pyplot as plt \n",
    "\n",
    "c1x = np.random.uniform(0.5, 1.5, (1, 10)) \n",
    "c1y = np.random.uniform(0.5, 1.5, (1, 10)) \n",
    "c2x = np.random.uniform(3.5, 4.5, (1, 10)) \n",
    "c2y = np.random.uniform(3.5, 4.5, (1, 10)) \n",
    "x = np.hstack((c1x, c2x)) \n",
    "y = np.hstack((c1y, c2y)) \n",
    "X = np.vstack((x, y)).T \n",
    "\n",
    "K = range(1, 10) \n",
    "meanDispersions = [] \n",
    "for k in K: \n",
    "    kmeans = KMeans(n_clusters=k) \n",
    "    kmeans.fit(X) \n",
    "    meanDispersions.append(sum(np.min(cdist(X, kmeans.cluster_centers_, 'euclidean'), axis=1)) / X.shape[0]) \n",
    "\n",
    "plt.plot(K, meanDispersions, 'bx-') \n",
    "plt.xlabel('k') \n",
    "plt.ylabel('Average Dispersion') \n",
    "plt.title('Selecting k with the Elbow Method') \n",
    "plt.show()"
   ]
  },
  {
   "cell_type": "code",
   "execution_count": 5,
   "metadata": {
    "scrolled": true
   },
   "outputs": [
    {
     "data": {
      "text/plain": [
       "array([[0.59397133, 1.4126014 ],\n",
       "       [0.76692755, 1.33177968],\n",
       "       [0.67443036, 1.00314247],\n",
       "       [0.62414707, 0.93872355],\n",
       "       [1.10433142, 1.46333226],\n",
       "       [1.3786084 , 1.23660072],\n",
       "       [1.49021255, 0.53598453],\n",
       "       [1.06499403, 0.84347555],\n",
       "       [1.04007104, 1.28025894],\n",
       "       [1.25541434, 0.85428388],\n",
       "       [4.12384255, 4.28944782],\n",
       "       [4.14721255, 3.78182216],\n",
       "       [3.90355663, 3.71931276],\n",
       "       [4.30692087, 3.84606625],\n",
       "       [3.57019769, 3.58494082],\n",
       "       [3.92007322, 3.88738137],\n",
       "       [4.35576717, 4.17603001],\n",
       "       [3.73922727, 4.36688071],\n",
       "       [3.74731244, 3.93985383],\n",
       "       [3.85243346, 3.69066647]])"
      ]
     },
     "execution_count": 5,
     "metadata": {},
     "output_type": "execute_result"
    }
   ],
   "source": [
    "X"
   ]
  },
  {
   "cell_type": "code",
   "execution_count": 6,
   "metadata": {},
   "outputs": [
    {
     "data": {
      "text/plain": [
       "array([[0.59397133, 0.76692755, 0.67443036, 0.62414707, 1.10433142,\n",
       "        1.3786084 , 1.49021255, 1.06499403, 1.04007104, 1.25541434,\n",
       "        4.12384255, 4.14721255, 3.90355663, 4.30692087, 3.57019769,\n",
       "        3.92007322, 4.35576717, 3.73922727, 3.74731244, 3.85243346],\n",
       "       [1.4126014 , 1.33177968, 1.00314247, 0.93872355, 1.46333226,\n",
       "        1.23660072, 0.53598453, 0.84347555, 1.28025894, 0.85428388,\n",
       "        4.28944782, 3.78182216, 3.71931276, 3.84606625, 3.58494082,\n",
       "        3.88738137, 4.17603001, 4.36688071, 3.93985383, 3.69066647]])"
      ]
     },
     "execution_count": 6,
     "metadata": {},
     "output_type": "execute_result"
    }
   ],
   "source": [
    "np.vstack((x, y))"
   ]
  }
 ],
 "metadata": {
  "kernelspec": {
   "display_name": "Python 3",
   "language": "python",
   "name": "python3"
  },
  "language_info": {
   "codemirror_mode": {
    "name": "ipython",
    "version": 3
   },
   "file_extension": ".py",
   "mimetype": "text/x-python",
   "name": "python",
   "nbconvert_exporter": "python",
   "pygments_lexer": "ipython3",
   "version": "3.8.2"
  }
 },
 "nbformat": 4,
 "nbformat_minor": 2
}
